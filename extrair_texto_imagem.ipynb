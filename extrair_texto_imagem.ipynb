{
  "nbformat": 4,
  "nbformat_minor": 0,
  "metadata": {
    "colab": {
      "private_outputs": true,
      "provenance": [],
      "authorship_tag": "ABX9TyOsMGGw+VpSjj0v/XgNhtWr",
      "include_colab_link": true
    },
    "kernelspec": {
      "name": "python3",
      "display_name": "Python 3"
    },
    "language_info": {
      "name": "python"
    }
  },
  "cells": [
    {
      "cell_type": "markdown",
      "metadata": {
        "id": "view-in-github",
        "colab_type": "text"
      },
      "source": [
        "<a href=\"https://colab.research.google.com/github/rivonildo/extrair_texto_imagem/blob/main/extrair_texto_imagem.ipynb\" target=\"_parent\"><img src=\"https://colab.research.google.com/assets/colab-badge.svg\" alt=\"Open In Colab\"/></a>"
      ]
    },
    {
      "cell_type": "code",
      "source": [
        "# Instalar as dependências (caso ainda não tenha instalado)\n",
        "!apt-get update && apt-get install -y tesseract-ocr\n",
        "!pip install pytesseract pillow\n",
        "\n",
        "# Importar bibliotecas\n",
        "from google.colab import files\n",
        "from PIL import Image\n",
        "import pytesseract\n",
        "\n",
        "# Função para fazer o upload da imagem\n",
        "def upload_image():\n",
        "    uploaded = files.upload()  # Permite o upload de arquivos\n",
        "    for filename in uploaded.keys():\n",
        "        print(f'Imagem carregada: {filename}')\n",
        "        return filename  # Retorna o nome do arquivo carregado\n",
        "\n",
        "# Função para extrair texto da imagem\n",
        "def extract_text_from_image(image_path):\n",
        "    # Abrir a imagem com Pillow\n",
        "    img = Image.open(image_path)\n",
        "\n",
        "    # Usar pytesseract para extrair texto da imagem\n",
        "    text = pytesseract.image_to_string(img)\n",
        "\n",
        "    return text\n",
        "\n",
        "# Função principal que une o upload e extração\n",
        "def process_image():\n",
        "    # Passo 1: Fazer upload da imagem\n",
        "    image_file = upload_image()\n",
        "\n",
        "    # Passo 2: Extrair texto da imagem\n",
        "    extracted_text = extract_text_from_image(image_file)\n",
        "\n",
        "    # Passo 3: Exibir o texto extraído\n",
        "    print(\"\\nTexto extraído da imagem:\")\n",
        "    print(extracted_text)\n",
        "\n",
        "# Chamar a função para processar a imagem\n",
        "process_image()\n"
      ],
      "metadata": {
        "id": "Zaz0xPJ8GEd6"
      },
      "execution_count": null,
      "outputs": []
    }
  ]
}